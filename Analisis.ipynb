{
 "cells": [
  {
   "cell_type": "markdown",
   "metadata": {},
   "source": [
    "Universidad Del Valle de Guatemala<br>\n",
    "Facultad de Ingeniería <br>\n",
    "Departamento de Ciencias de la Computación<br>\n",
    "CC3084 - Data Science <br>\n",
    "Semestre II - 2023\n",
    "\n",
    "# Análisis Exploratorio\n",
    "\n",
    "Integrantes:\n",
    "- Alejandro Gómez\n",
    "- Christopher García\n",
    "- Gabriel Vicente\n",
    "- Ma. Isabel Solano\n",
    "- Roberto Vallecillos"
   ]
  },
  {
   "cell_type": "markdown",
   "metadata": {},
   "source": [
    "## Investigación"
   ]
  },
  {
   "cell_type": "markdown",
   "metadata": {},
   "source": [
    "#### Introducción\n",
    "\n",
    "Los mosquitos son insectos pequeños pero peligrosos que transmiten enfermedades que representan una seria amenaza para los seres humanos y el medio ambiente. Con más de 3600 especies conocidas, algunos de ellos tienen la capacidad de transmitir diversos patógenos, lo que lleva a brotes de enfermedades como el Zika, el Dengue y la Chikungunya [[1]](https://www.cdc.gov/mosquitoes/es/index.html).\n",
    "\n",
    "El control de las poblaciones de mosquitos es vital para prevenir brotes de enfermedades y proteger a las comunidades en todo el mundo. Existen diversas estrategias y enfoques para el control de mosquitos, que incluyen:\n",
    "\n",
    "- Control de mosquitos en la comunidad: Esto implica la eliminación de los sitios de reproducción de mosquitos, como aguas estancadas y recipientes que puedan acumular agua. También se pueden utilizar larvicidas para matar las larvas de mosquitos antes de que se conviertan en adultos [[1]](https://www.cdc.gov/mosquitoes/es/index.html).\n",
    "- Control de mosquitos en el hogar: Se recomienda mantener las puertas y ventanas cerradas o utilizar mosquiteros para evitar que los mosquitos entren a la casa. También se pueden utilizar insecticidas en aerosol o en forma de espirales para repeler a los mosquitos [[1]](https://www.cdc.gov/mosquitoes/es/index.html).\n",
    "- Control de mosquitos para profesionales: Los profesionales del control de mosquitos utilizan una variedad de métodos para controlar los mosquitos adultos, incluyendo el uso de adulticidas, que son productos químicos diseñados para matar mosquitos adultos. También pueden utilizar técnicas de insectos estériles para reducir la población de mosquitos [[7]](https://www.cdc.gov/mosquitoes/es/mosquito-control/professionals/integrated-mosquito-management.html).\n",
    "\n",
    "Es importante destacar que las enfermedades transmitidas por mosquitos, como el Dengue y el Zika, no tienen un tratamiento específico, por lo que la prevención es fundamental. Algunas medidas de prevención incluyen:\n",
    "\n",
    "- Protegerse de las picaduras de mosquitos, especialmente durante el día cuando los mosquitos Aedes, responsables de la transmisión del Dengue y el Zika, son más activos [[2]](https://www.who.int/es/news-room/fact-sheets/detail/dengue-and-severe-dengue)[[8]](https://www.who.int/es/news-room/fact-sheets/detail/zika-virus).\n",
    "- Utilizar repelente de insectos que contenga DEET u otros ingredientes recomendados por las autoridades sanitarias [[1]](https://www.cdc.gov/mosquitoes/es/index.html).\n",
    "- Vestir ropa de manga larga y pantalones largos para cubrir la piel expuesta [[1]](https://www.cdc.gov/mosquitoes/es/index.html).\n",
    "- Eliminar los posibles criaderos de mosquitos en el entorno, como recipientes con agua estancada [[1]](https://www.cdc.gov/mosquitoes/es/index.html).\n",
    "\n",
    "Además, se están llevando a cabo investigaciones y desarrollos en el campo de los mosquitos genéticamente modificados para combatir enfermedades transmitidas por mosquitos, como el paludismo [[9]](https://www.who.int/es/news/item/19-05-2021-who-issues-new-guidance-for-research-on-genetically-modified-mosquitoes-to-fight-malaria-and-other-vector-borne-diseases). Estos enfoques utilizan técnicas de modificación genética para reducir la capacidad de los mosquitos para transmitir enfermedades o para reducir su población [[9]](https://www.who.int/es/news/item/19-05-2021-who-issues-new-guidance-for-research-on-genetically-modified-mosquitoes-to-fight-malaria-and-other-vector-borne-diseases).\n",
    "\n",
    "#### Dataset\n",
    "\n",
    "El dataset que se ofrece para el tema seleccionado (Identificación de especies de mosquitos) consta de 10,700 imágenes del mundo real de mosquitos capturadas por los participantes utilizando teléfonos móviles. Estas imágenes ofrecen una representación diversa de mosquitos en varios escenarios y ubicaciones. Cada imagen está etiquetada con coordenadas de cuadro delimitador e información de clase de mosquito.\n",
    "\n",
    "El conjunto de datos se ha dividido en conjuntos de entrenamiento y prueba, con el 80% de las imágenes asignadas para entrenamiento (8,025 imágenes) y el 20% para pruebas (2,675 imágenes). Se proporciona un archivo CSV con el conjunto de datos: \"train.csv\" para el conjunto de datos de entrenamiento. El archivo contiene anotaciones precisas proporcionadas por entomólogos expertos, que indican la ubicación y la clase de los mosquitos en cada imagen. Se lanzará un archivo con anotaciones correspondientes al subconjunto de prueba, llamado \"test.csv\", en la segunda fase del desafío.\n",
    "\n",
    "El archivo CSV incluye información importante como el nombre del archivo de imagen, el ancho y la altura. Las coordenadas del cuadro delimitador, representadas por cuatro columnas (\"bbx_xtl\", \"bbx_ytl\", \"bbx_xbr\", \"bbx_ybr\"), definen la región rectangular donde se encuentra el mosquito. Las coordenadas superior izquierda representan el punto de inicio, mientras que las coordenadas inferior derecha indican el punto final del cuadro delimitador.\n",
    "\n",
    "Es importante tener en cuenta que la mayoría de las imágenes contienen un solo mosquito con su correspondiente cuadro delimitador y etiqueta de clase. Sin embargo, hay casos raros en los que pueden estar presentes varios mosquitos en una imagen, reflejando escenarios del mundo real. Por razones de consistencia y compatibilidad, se ha establecido la convención de asignar un cuadro delimitador y una etiqueta de clase a solo un mosquito por imagen, incluso si se ven múltiples mosquitos.\n",
    "\n",
    "El conjunto de datos consta de seis clases distintas, que incluyen dos especies y tres clases de género, así como una clase para un complejo de especies. Aquí hay un resumen de las clases y sus descripciones:\n",
    "\n",
    "- Aedes aegypti: Especie\n",
    "- Aedes albopictus: Especie\n",
    "- Anopheles: Género\n",
    "- Culex: Género (la clasificación de especies es desafiante, por lo que se proporciona a nivel de género)\n",
    "- Culiseta: Género\n",
    "- Aedes japonicus/Aedes koreicus: Complejo de especies (difícil de diferenciar entre las dos especies)\n",
    "\n",
    "El archivo CSV proporcionado incluye una columna \"class_label\" que especifica el nombre de la clase correspondiente a cada imagen de mosquito.\n",
    "\n",
    "#### Problemas relacionados a Guatemala\n",
    "Guatemala enfrenta varios problemas relacionados con la salud y el medio ambiente en lo que respecta a los mosquitos y las enfermedades transmitidas por ellos. A continuación, se enumeran algunos de los problemas más destacados:\n",
    "\n",
    "- Dengue: Guatemala ha experimentado brotes recurrentes de dengue en los últimos años. El dengue es transmitido principalmente por el mosquito Aedes aegypti, que se reproduce en recipientes de agua estancada en áreas urbanas y periurbanas. La falta de control adecuado de los criaderos de mosquitos es un problema significativo.\n",
    "\n",
    "- Zika y Chikungunya: Al igual que el dengue, el Zika y el Chikungunya también son transmitidos por el mosquito Aedes aegypti. Estas enfermedades pueden tener graves consecuencias para la salud, especialmente para mujeres embarazadas. La prevención y el control de estos virus son esenciales.\n",
    "\n",
    "- Malaria: Aunque la malaria ha disminuido en Guatemala en los últimos años, aún persiste en algunas áreas rurales. Esta enfermedad es transmitida por el mosquito Anopheles y requiere medidas continuas de control y prevención.\n",
    "\n",
    "- Falta de acceso a atención médica: En muchas zonas rurales de Guatemala, el acceso a la atención médica es limitado. Esto dificulta la detección temprana y el tratamiento de enfermedades transmitidas por mosquitos, lo que puede llevar a un aumento en la propagación de estas enfermedades.\n",
    "\n",
    "- Desafíos socioeconómicos: La pobreza y la falta de infraestructura básica en algunas áreas contribuyen a la proliferación de mosquitos, ya que se acumula agua estancada en recipientes improvisados. Además, las personas en situaciones socioeconómicas precarias pueden tener dificultades para adquirir repelentes y mosquiteros.\n",
    "\n",
    "- Cambio climático: El cambio climático puede influir en la distribución de mosquitos y en la temporada de transmisión de enfermedades. El aumento de las temperaturas y los patrones de lluvia irregulares pueden crear condiciones más propicias para la reproducción de mosquitos.\n",
    "\n",
    "- Resistencia a insecticidas: La resistencia de los mosquitos a los insecticidas utilizados en los programas de control es un problema en constante evolución. Esto requiere la adaptación de estrategias de control."
   ]
  },
  {
   "cell_type": "markdown",
   "metadata": {},
   "source": [
    "## Análisis del Problema Planteado\n",
    "\n",
    "### Situación problema\n",
    "\n",
    "### Problema Científico\n",
    "\n",
    "### Objetivos\n"
   ]
  },
  {
   "cell_type": "markdown",
   "metadata": {},
   "source": [
    "## Limpieza de Datos"
   ]
  },
  {
   "cell_type": "markdown",
   "metadata": {},
   "source": [
    "## Análisis Exploratorio"
   ]
  },
  {
   "cell_type": "markdown",
   "metadata": {},
   "source": [
    "## Conclusiones"
   ]
  },
  {
   "cell_type": "markdown",
   "metadata": {},
   "source": [
    "## Bibliografía"
   ]
  },
  {
   "cell_type": "markdown",
   "metadata": {},
   "source": [
    "- [1] CDC. (2020, August 18). Mosquitos . Centers for Disease Control and Prevention. https://www.cdc.gov/mosquitoes/es/index.html\n",
    "- [2] World. (2023, March 17). Dengue y dengue grave. Who.int; World Health Organization: WHO. https://www.who.int/es/news-room/fact-sheets/detail/dengue-and-severe-dengue\n",
    "- [7] CDC. (2020, August 18). Manejo integrado de mosquitos . Centers for Disease Control and Prevention. https://www.cdc.gov/mosquitoes/es/mosquito-control/professionals/integrated-mosquito-management.html\n",
    "- [8] World. (2022, December 8). Virus de Zika. Who.int; World Health Organization: WHO. https://www.who.int/es/news-room/fact-sheets/detail/zika-virus\n",
    "- [9] World. (2021, May 19). La OMS publica nuevas orientaciones aplicables a la investigación sobre mosquitos genéticamente modificados para combatir el paludismo y otras enfermedades vectoriales. Who.int; World Health Organization: WHO. https://www.who.int/es/news/item/19-05-2021-who-issues-new-guidance-for-research-on-genetically-modified-mosquitoes-to-fight-malaria-and-other-vector-borne-diseases\n",
    "‌"
   ]
  }
 ],
 "metadata": {
  "language_info": {
   "name": "python"
  },
  "orig_nbformat": 4
 },
 "nbformat": 4,
 "nbformat_minor": 2
}
