{
 "cells": [
  {
   "cell_type": "markdown",
   "metadata": {},
   "source": [
    "Universidad Del Valle de Guatemala<br>\n",
    "Facultad de Ingeniería <br>\n",
    "Departamento de Ciencias de la Computación<br>\n",
    "CC3084 - Data Science <br>\n",
    "Semestre II - 2023\n",
    "\n",
    "# Análisis Exploratorio\n",
    "\n",
    "Integrantes:\n",
    "- Alejandro Gómez\n",
    "- Christopher García\n",
    "- Gabriel Vicente\n",
    "- Ma. Isabel Solano"
   ]
  },
  {
   "cell_type": "markdown",
   "metadata": {},
   "source": [
    "## Investigación"
   ]
  },
  {
   "cell_type": "markdown",
   "metadata": {},
   "source": [
    "## Análisis del Problema Planteado\n",
    "\n",
    "### Situación problema\n",
    "\n",
    "### Problema Científico\n",
    "\n",
    "### Objetivos\n"
   ]
  },
  {
   "cell_type": "markdown",
   "metadata": {},
   "source": [
    "## Limpieza de Datos"
   ]
  },
  {
   "cell_type": "markdown",
   "metadata": {},
   "source": [
    "## Análisis Exploratorio"
   ]
  },
  {
   "cell_type": "markdown",
   "metadata": {},
   "source": [
    "## Conclusiones"
   ]
  }
 ],
 "metadata": {
  "language_info": {
   "name": "python"
  },
  "orig_nbformat": 4
 },
 "nbformat": 4,
 "nbformat_minor": 2
}
