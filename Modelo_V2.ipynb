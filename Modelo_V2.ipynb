{
  "cells": [
    {
      "cell_type": "code",
      "source": [
        "!pip install -U ultralytics tqdm opencv-python torchvision pandas Pillow gdown aicrowd-cli"
      ],
      "metadata": {
        "colab": {
          "base_uri": "https://localhost:8080/"
        },
        "id": "1Xi60jSGcMPH",
        "outputId": "1af7ccd5-5249-478e-ff80-afe106d21a7e"
      },
      "execution_count": null,
      "outputs": [
        {
          "output_type": "stream",
          "name": "stdout",
          "text": [
            "Requirement already satisfied: ultralytics in /usr/local/lib/python3.10/dist-packages (8.0.202)\n",
            "Requirement already satisfied: tqdm in /usr/local/lib/python3.10/dist-packages (4.66.1)\n",
            "Requirement already satisfied: opencv-python in /usr/local/lib/python3.10/dist-packages (4.8.1.78)\n",
            "Requirement already satisfied: torchvision in /usr/local/lib/python3.10/dist-packages (0.16.0+cu118)\n",
            "Requirement already satisfied: pandas in /usr/local/lib/python3.10/dist-packages (2.1.2)\n",
            "Requirement already satisfied: Pillow in /usr/local/lib/python3.10/dist-packages (10.1.0)\n",
            "Requirement already satisfied: gdown in /usr/local/lib/python3.10/dist-packages (4.7.1)\n",
            "Requirement already satisfied: aicrowd-cli in /usr/local/lib/python3.10/dist-packages (0.1.15)\n",
            "Requirement already satisfied: matplotlib>=3.3.0 in /usr/local/lib/python3.10/dist-packages (from ultralytics) (3.7.1)\n",
            "Requirement already satisfied: numpy>=1.22.2 in /usr/local/lib/python3.10/dist-packages (from ultralytics) (1.23.5)\n",
            "Requirement already satisfied: pyyaml>=5.3.1 in /usr/local/lib/python3.10/dist-packages (from ultralytics) (6.0.1)\n",
            "Requirement already satisfied: requests>=2.23.0 in /usr/local/lib/python3.10/dist-packages (from ultralytics) (2.31.0)\n",
            "Requirement already satisfied: scipy>=1.4.1 in /usr/local/lib/python3.10/dist-packages (from ultralytics) (1.11.3)\n",
            "Requirement already satisfied: torch>=1.8.0 in /usr/local/lib/python3.10/dist-packages (from ultralytics) (2.1.0+cu118)\n",
            "Requirement already satisfied: seaborn>=0.11.0 in /usr/local/lib/python3.10/dist-packages (from ultralytics) (0.12.2)\n",
            "Requirement already satisfied: psutil in /usr/local/lib/python3.10/dist-packages (from ultralytics) (5.9.5)\n",
            "Requirement already satisfied: py-cpuinfo in /usr/local/lib/python3.10/dist-packages (from ultralytics) (9.0.0)\n",
            "Requirement already satisfied: thop>=0.1.1 in /usr/local/lib/python3.10/dist-packages (from ultralytics) (0.1.1.post2209072238)\n",
            "Requirement already satisfied: filelock in /usr/local/lib/python3.10/dist-packages (from torch>=1.8.0->ultralytics) (3.12.4)\n",
            "Requirement already satisfied: typing-extensions in /usr/local/lib/python3.10/dist-packages (from torch>=1.8.0->ultralytics) (4.5.0)\n",
            "Requirement already satisfied: sympy in /usr/local/lib/python3.10/dist-packages (from torch>=1.8.0->ultralytics) (1.12)\n",
            "Requirement already satisfied: networkx in /usr/local/lib/python3.10/dist-packages (from torch>=1.8.0->ultralytics) (3.2)\n",
            "Requirement already satisfied: jinja2 in /usr/local/lib/python3.10/dist-packages (from torch>=1.8.0->ultralytics) (3.1.2)\n",
            "Requirement already satisfied: fsspec in /usr/local/lib/python3.10/dist-packages (from torch>=1.8.0->ultralytics) (2023.6.0)\n",
            "Requirement already satisfied: triton==2.1.0 in /usr/local/lib/python3.10/dist-packages (from torch>=1.8.0->ultralytics) (2.1.0)\n",
            "Requirement already satisfied: python-dateutil>=2.8.2 in /usr/local/lib/python3.10/dist-packages (from pandas) (2.8.2)\n",
            "Requirement already satisfied: pytz>=2020.1 in /usr/local/lib/python3.10/dist-packages (from pandas) (2023.3.post1)\n",
            "Requirement already satisfied: tzdata>=2022.1 in /usr/local/lib/python3.10/dist-packages (from pandas) (2023.3)\n",
            "Requirement already satisfied: six in /usr/local/lib/python3.10/dist-packages (from gdown) (1.16.0)\n",
            "Requirement already satisfied: beautifulsoup4 in /usr/local/lib/python3.10/dist-packages (from gdown) (4.11.2)\n",
            "Requirement already satisfied: click<8,>=7.1.2 in /usr/local/lib/python3.10/dist-packages (from aicrowd-cli) (7.1.2)\n",
            "Requirement already satisfied: GitPython==3.1.18 in /usr/local/lib/python3.10/dist-packages (from aicrowd-cli) (3.1.18)\n",
            "Requirement already satisfied: requests-toolbelt<1,>=0.9.1 in /usr/local/lib/python3.10/dist-packages (from aicrowd-cli) (0.10.1)\n",
            "Requirement already satisfied: rich<11,>=10.0.0 in /usr/local/lib/python3.10/dist-packages (from aicrowd-cli) (10.16.2)\n",
            "Requirement already satisfied: toml<1,>=0.10.2 in /usr/local/lib/python3.10/dist-packages (from aicrowd-cli) (0.10.2)\n",
            "Requirement already satisfied: pyzmq==22.1.0 in /usr/local/lib/python3.10/dist-packages (from aicrowd-cli) (22.1.0)\n",
            "Requirement already satisfied: python-slugify<6,>=5.0.0 in /usr/local/lib/python3.10/dist-packages (from aicrowd-cli) (5.0.2)\n",
            "Requirement already satisfied: semver<3,>=2.13.0 in /usr/local/lib/python3.10/dist-packages (from aicrowd-cli) (2.13.0)\n",
            "Requirement already satisfied: gitdb<5,>=4.0.1 in /usr/local/lib/python3.10/dist-packages (from GitPython==3.1.18->aicrowd-cli) (4.0.11)\n",
            "Requirement already satisfied: contourpy>=1.0.1 in /usr/local/lib/python3.10/dist-packages (from matplotlib>=3.3.0->ultralytics) (1.1.1)\n",
            "Requirement already satisfied: cycler>=0.10 in /usr/local/lib/python3.10/dist-packages (from matplotlib>=3.3.0->ultralytics) (0.12.1)\n",
            "Requirement already satisfied: fonttools>=4.22.0 in /usr/local/lib/python3.10/dist-packages (from matplotlib>=3.3.0->ultralytics) (4.43.1)\n",
            "Requirement already satisfied: kiwisolver>=1.0.1 in /usr/local/lib/python3.10/dist-packages (from matplotlib>=3.3.0->ultralytics) (1.4.5)\n",
            "Requirement already satisfied: packaging>=20.0 in /usr/local/lib/python3.10/dist-packages (from matplotlib>=3.3.0->ultralytics) (23.2)\n",
            "Requirement already satisfied: pyparsing>=2.3.1 in /usr/local/lib/python3.10/dist-packages (from matplotlib>=3.3.0->ultralytics) (3.1.1)\n",
            "Requirement already satisfied: text-unidecode>=1.3 in /usr/local/lib/python3.10/dist-packages (from python-slugify<6,>=5.0.0->aicrowd-cli) (1.3)\n",
            "Requirement already satisfied: charset-normalizer<4,>=2 in /usr/local/lib/python3.10/dist-packages (from requests>=2.23.0->ultralytics) (3.3.1)\n",
            "Requirement already satisfied: idna<4,>=2.5 in /usr/local/lib/python3.10/dist-packages (from requests>=2.23.0->ultralytics) (3.4)\n",
            "Requirement already satisfied: urllib3<3,>=1.21.1 in /usr/local/lib/python3.10/dist-packages (from requests>=2.23.0->ultralytics) (2.0.7)\n",
            "Requirement already satisfied: certifi>=2017.4.17 in /usr/local/lib/python3.10/dist-packages (from requests>=2.23.0->ultralytics) (2023.7.22)\n",
            "Requirement already satisfied: colorama<0.5.0,>=0.4.0 in /usr/local/lib/python3.10/dist-packages (from rich<11,>=10.0.0->aicrowd-cli) (0.4.6)\n",
            "Requirement already satisfied: commonmark<0.10.0,>=0.9.0 in /usr/local/lib/python3.10/dist-packages (from rich<11,>=10.0.0->aicrowd-cli) (0.9.1)\n",
            "Requirement already satisfied: pygments<3.0.0,>=2.6.0 in /usr/local/lib/python3.10/dist-packages (from rich<11,>=10.0.0->aicrowd-cli) (2.16.1)\n",
            "Requirement already satisfied: soupsieve>1.2 in /usr/local/lib/python3.10/dist-packages (from beautifulsoup4->gdown) (2.5)\n",
            "Requirement already satisfied: PySocks!=1.5.7,>=1.5.6 in /usr/local/lib/python3.10/dist-packages (from requests>=2.23.0->ultralytics) (1.7.1)\n",
            "Requirement already satisfied: smmap<6,>=3.0.1 in /usr/local/lib/python3.10/dist-packages (from gitdb<5,>=4.0.1->GitPython==3.1.18->aicrowd-cli) (5.0.1)\n",
            "Requirement already satisfied: MarkupSafe>=2.0 in /usr/local/lib/python3.10/dist-packages (from jinja2->torch>=1.8.0->ultralytics) (2.1.3)\n",
            "Requirement already satisfied: mpmath>=0.19 in /usr/local/lib/python3.10/dist-packages (from sympy->torch>=1.8.0->ultralytics) (1.3.0)\n"
          ]
        }
      ]
    },
    {
      "cell_type": "code",
      "source": [
        "!pip install tensorflow numpy torch sklearn streamlit joblib"
      ],
      "metadata": {
        "colab": {
          "base_uri": "https://localhost:8080/"
        },
        "id": "aOHzn4j4f7eN",
        "outputId": "5fec48a7-4409-46d9-ad46-b50f8bace608"
      },
      "execution_count": null,
      "outputs": [
        {
          "output_type": "stream",
          "name": "stdout",
          "text": [
            "Requirement already satisfied: tensorflow in /usr/local/lib/python3.10/dist-packages (2.14.0)\n",
            "Requirement already satisfied: numpy in /usr/local/lib/python3.10/dist-packages (1.23.5)\n",
            "Requirement already satisfied: torch in /usr/local/lib/python3.10/dist-packages (2.1.0+cu118)\n",
            "Requirement already satisfied: sklearn in /usr/local/lib/python3.10/dist-packages (0.0.post10)\n",
            "Requirement already satisfied: streamlit in /usr/local/lib/python3.10/dist-packages (1.28.0)\n",
            "Requirement already satisfied: joblib in /usr/local/lib/python3.10/dist-packages (1.3.2)\n",
            "Requirement already satisfied: absl-py>=1.0.0 in /usr/local/lib/python3.10/dist-packages (from tensorflow) (1.4.0)\n",
            "Requirement already satisfied: astunparse>=1.6.0 in /usr/local/lib/python3.10/dist-packages (from tensorflow) (1.6.3)\n",
            "Requirement already satisfied: flatbuffers>=23.5.26 in /usr/local/lib/python3.10/dist-packages (from tensorflow) (23.5.26)\n",
            "Requirement already satisfied: gast!=0.5.0,!=0.5.1,!=0.5.2,>=0.2.1 in /usr/local/lib/python3.10/dist-packages (from tensorflow) (0.5.4)\n",
            "Requirement already satisfied: google-pasta>=0.1.1 in /usr/local/lib/python3.10/dist-packages (from tensorflow) (0.2.0)\n",
            "Requirement already satisfied: h5py>=2.9.0 in /usr/local/lib/python3.10/dist-packages (from tensorflow) (3.9.0)\n",
            "Requirement already satisfied: libclang>=13.0.0 in /usr/local/lib/python3.10/dist-packages (from tensorflow) (16.0.6)\n",
            "Requirement already satisfied: ml-dtypes==0.2.0 in /usr/local/lib/python3.10/dist-packages (from tensorflow) (0.2.0)\n",
            "Requirement already satisfied: opt-einsum>=2.3.2 in /usr/local/lib/python3.10/dist-packages (from tensorflow) (3.3.0)\n",
            "Requirement already satisfied: packaging in /usr/local/lib/python3.10/dist-packages (from tensorflow) (23.2)\n",
            "Requirement already satisfied: protobuf!=4.21.0,!=4.21.1,!=4.21.2,!=4.21.3,!=4.21.4,!=4.21.5,<5.0.0dev,>=3.20.3 in /usr/local/lib/python3.10/dist-packages (from tensorflow) (3.20.3)\n",
            "Requirement already satisfied: setuptools in /usr/local/lib/python3.10/dist-packages (from tensorflow) (67.7.2)\n",
            "Requirement already satisfied: six>=1.12.0 in /usr/local/lib/python3.10/dist-packages (from tensorflow) (1.16.0)\n",
            "Requirement already satisfied: termcolor>=1.1.0 in /usr/local/lib/python3.10/dist-packages (from tensorflow) (2.3.0)\n",
            "Requirement already satisfied: typing-extensions>=3.6.6 in /usr/local/lib/python3.10/dist-packages (from tensorflow) (4.5.0)\n",
            "Requirement already satisfied: wrapt<1.15,>=1.11.0 in /usr/local/lib/python3.10/dist-packages (from tensorflow) (1.14.1)\n",
            "Requirement already satisfied: tensorflow-io-gcs-filesystem>=0.23.1 in /usr/local/lib/python3.10/dist-packages (from tensorflow) (0.34.0)\n",
            "Requirement already satisfied: grpcio<2.0,>=1.24.3 in /usr/local/lib/python3.10/dist-packages (from tensorflow) (1.59.0)\n",
            "Requirement already satisfied: tensorboard<2.15,>=2.14 in /usr/local/lib/python3.10/dist-packages (from tensorflow) (2.14.1)\n",
            "Requirement already satisfied: tensorflow-estimator<2.15,>=2.14.0 in /usr/local/lib/python3.10/dist-packages (from tensorflow) (2.14.0)\n",
            "Requirement already satisfied: keras<2.15,>=2.14.0 in /usr/local/lib/python3.10/dist-packages (from tensorflow) (2.14.0)\n",
            "Requirement already satisfied: filelock in /usr/local/lib/python3.10/dist-packages (from torch) (3.12.4)\n",
            "Requirement already satisfied: sympy in /usr/local/lib/python3.10/dist-packages (from torch) (1.12)\n",
            "Requirement already satisfied: networkx in /usr/local/lib/python3.10/dist-packages (from torch) (3.2)\n",
            "Requirement already satisfied: jinja2 in /usr/local/lib/python3.10/dist-packages (from torch) (3.1.2)\n",
            "Requirement already satisfied: fsspec in /usr/local/lib/python3.10/dist-packages (from torch) (2023.6.0)\n",
            "Requirement already satisfied: triton==2.1.0 in /usr/local/lib/python3.10/dist-packages (from torch) (2.1.0)\n",
            "Requirement already satisfied: altair<6,>=4.0 in /usr/local/lib/python3.10/dist-packages (from streamlit) (4.2.2)\n",
            "Requirement already satisfied: blinker<2,>=1.0.0 in /usr/lib/python3/dist-packages (from streamlit) (1.4)\n",
            "Requirement already satisfied: cachetools<6,>=4.0 in /usr/local/lib/python3.10/dist-packages (from streamlit) (5.3.2)\n",
            "Requirement already satisfied: click<9,>=7.0 in /usr/local/lib/python3.10/dist-packages (from streamlit) (7.1.2)\n",
            "Requirement already satisfied: importlib-metadata<7,>=1.4 in /usr/local/lib/python3.10/dist-packages (from streamlit) (6.8.0)\n",
            "Requirement already satisfied: pandas<3,>=1.3.0 in /usr/local/lib/python3.10/dist-packages (from streamlit) (2.1.2)\n",
            "Requirement already satisfied: pillow<11,>=7.1.0 in /usr/local/lib/python3.10/dist-packages (from streamlit) (10.1.0)\n",
            "Requirement already satisfied: pyarrow>=6.0 in /usr/local/lib/python3.10/dist-packages (from streamlit) (9.0.0)\n",
            "Requirement already satisfied: python-dateutil<3,>=2.7.3 in /usr/local/lib/python3.10/dist-packages (from streamlit) (2.8.2)\n",
            "Requirement already satisfied: requests<3,>=2.27 in /usr/local/lib/python3.10/dist-packages (from streamlit) (2.31.0)\n",
            "Requirement already satisfied: rich<14,>=10.14.0 in /usr/local/lib/python3.10/dist-packages (from streamlit) (10.16.2)\n",
            "Requirement already satisfied: tenacity<9,>=8.1.0 in /usr/local/lib/python3.10/dist-packages (from streamlit) (8.2.3)\n",
            "Requirement already satisfied: toml<2,>=0.10.1 in /usr/local/lib/python3.10/dist-packages (from streamlit) (0.10.2)\n",
            "Requirement already satisfied: tzlocal<6,>=1.1 in /usr/local/lib/python3.10/dist-packages (from streamlit) (5.2)\n",
            "Requirement already satisfied: validators<1,>=0.2 in /usr/local/lib/python3.10/dist-packages (from streamlit) (0.22.0)\n",
            "Requirement already satisfied: gitpython!=3.1.19,<4,>=3.0.7 in /usr/local/lib/python3.10/dist-packages (from streamlit) (3.1.18)\n",
            "Requirement already satisfied: pydeck<1,>=0.8.0b4 in /usr/local/lib/python3.10/dist-packages (from streamlit) (0.8.1b0)\n",
            "Requirement already satisfied: tornado<7,>=6.0.3 in /usr/local/lib/python3.10/dist-packages (from streamlit) (6.3.2)\n",
            "Requirement already satisfied: watchdog>=2.1.5 in /usr/local/lib/python3.10/dist-packages (from streamlit) (3.0.0)\n",
            "Requirement already satisfied: entrypoints in /usr/local/lib/python3.10/dist-packages (from altair<6,>=4.0->streamlit) (0.4)\n",
            "Requirement already satisfied: jsonschema>=3.0 in /usr/local/lib/python3.10/dist-packages (from altair<6,>=4.0->streamlit) (4.19.1)\n",
            "Requirement already satisfied: toolz in /usr/local/lib/python3.10/dist-packages (from altair<6,>=4.0->streamlit) (0.12.0)\n",
            "Requirement already satisfied: wheel<1.0,>=0.23.0 in /usr/local/lib/python3.10/dist-packages (from astunparse>=1.6.0->tensorflow) (0.41.2)\n",
            "Requirement already satisfied: gitdb<5,>=4.0.1 in /usr/local/lib/python3.10/dist-packages (from gitpython!=3.1.19,<4,>=3.0.7->streamlit) (4.0.11)\n",
            "Requirement already satisfied: zipp>=0.5 in /usr/local/lib/python3.10/dist-packages (from importlib-metadata<7,>=1.4->streamlit) (3.17.0)\n",
            "Requirement already satisfied: pytz>=2020.1 in /usr/local/lib/python3.10/dist-packages (from pandas<3,>=1.3.0->streamlit) (2023.3.post1)\n",
            "Requirement already satisfied: tzdata>=2022.1 in /usr/local/lib/python3.10/dist-packages (from pandas<3,>=1.3.0->streamlit) (2023.3)\n",
            "Requirement already satisfied: MarkupSafe>=2.0 in /usr/local/lib/python3.10/dist-packages (from jinja2->torch) (2.1.3)\n",
            "Requirement already satisfied: charset-normalizer<4,>=2 in /usr/local/lib/python3.10/dist-packages (from requests<3,>=2.27->streamlit) (3.3.1)\n",
            "Requirement already satisfied: idna<4,>=2.5 in /usr/local/lib/python3.10/dist-packages (from requests<3,>=2.27->streamlit) (3.4)\n",
            "Requirement already satisfied: urllib3<3,>=1.21.1 in /usr/local/lib/python3.10/dist-packages (from requests<3,>=2.27->streamlit) (2.0.7)\n",
            "Requirement already satisfied: certifi>=2017.4.17 in /usr/local/lib/python3.10/dist-packages (from requests<3,>=2.27->streamlit) (2023.7.22)\n",
            "Requirement already satisfied: colorama<0.5.0,>=0.4.0 in /usr/local/lib/python3.10/dist-packages (from rich<14,>=10.14.0->streamlit) (0.4.6)\n",
            "Requirement already satisfied: commonmark<0.10.0,>=0.9.0 in /usr/local/lib/python3.10/dist-packages (from rich<14,>=10.14.0->streamlit) (0.9.1)\n",
            "Requirement already satisfied: pygments<3.0.0,>=2.6.0 in /usr/local/lib/python3.10/dist-packages (from rich<14,>=10.14.0->streamlit) (2.16.1)\n",
            "Requirement already satisfied: google-auth<3,>=1.6.3 in /usr/local/lib/python3.10/dist-packages (from tensorboard<2.15,>=2.14->tensorflow) (2.17.3)\n",
            "Requirement already satisfied: google-auth-oauthlib<1.1,>=0.5 in /usr/local/lib/python3.10/dist-packages (from tensorboard<2.15,>=2.14->tensorflow) (1.0.0)\n",
            "Requirement already satisfied: markdown>=2.6.8 in /usr/local/lib/python3.10/dist-packages (from tensorboard<2.15,>=2.14->tensorflow) (3.5)\n",
            "Requirement already satisfied: tensorboard-data-server<0.8.0,>=0.7.0 in /usr/local/lib/python3.10/dist-packages (from tensorboard<2.15,>=2.14->tensorflow) (0.7.2)\n",
            "Requirement already satisfied: werkzeug>=1.0.1 in /usr/local/lib/python3.10/dist-packages (from tensorboard<2.15,>=2.14->tensorflow) (3.0.1)\n",
            "Requirement already satisfied: mpmath>=0.19 in /usr/local/lib/python3.10/dist-packages (from sympy->torch) (1.3.0)\n",
            "Requirement already satisfied: smmap<6,>=3.0.1 in /usr/local/lib/python3.10/dist-packages (from gitdb<5,>=4.0.1->gitpython!=3.1.19,<4,>=3.0.7->streamlit) (5.0.1)\n",
            "Requirement already satisfied: pyasn1-modules>=0.2.1 in /usr/local/lib/python3.10/dist-packages (from google-auth<3,>=1.6.3->tensorboard<2.15,>=2.14->tensorflow) (0.3.0)\n",
            "Requirement already satisfied: rsa<5,>=3.1.4 in /usr/local/lib/python3.10/dist-packages (from google-auth<3,>=1.6.3->tensorboard<2.15,>=2.14->tensorflow) (4.9)\n",
            "Requirement already satisfied: requests-oauthlib>=0.7.0 in /usr/local/lib/python3.10/dist-packages (from google-auth-oauthlib<1.1,>=0.5->tensorboard<2.15,>=2.14->tensorflow) (1.3.1)\n",
            "Requirement already satisfied: attrs>=22.2.0 in /usr/local/lib/python3.10/dist-packages (from jsonschema>=3.0->altair<6,>=4.0->streamlit) (23.1.0)\n",
            "Requirement already satisfied: jsonschema-specifications>=2023.03.6 in /usr/local/lib/python3.10/dist-packages (from jsonschema>=3.0->altair<6,>=4.0->streamlit) (2023.7.1)\n",
            "Requirement already satisfied: referencing>=0.28.4 in /usr/local/lib/python3.10/dist-packages (from jsonschema>=3.0->altair<6,>=4.0->streamlit) (0.30.2)\n",
            "Requirement already satisfied: rpds-py>=0.7.1 in /usr/local/lib/python3.10/dist-packages (from jsonschema>=3.0->altair<6,>=4.0->streamlit) (0.10.6)\n",
            "Requirement already satisfied: pyasn1<0.6.0,>=0.4.6 in /usr/local/lib/python3.10/dist-packages (from pyasn1-modules>=0.2.1->google-auth<3,>=1.6.3->tensorboard<2.15,>=2.14->tensorflow) (0.5.0)\n",
            "Requirement already satisfied: oauthlib>=3.0.0 in /usr/local/lib/python3.10/dist-packages (from requests-oauthlib>=0.7.0->google-auth-oauthlib<1.1,>=0.5->tensorboard<2.15,>=2.14->tensorflow) (3.2.2)\n"
          ]
        }
      ]
    },
    {
      "cell_type": "code",
      "execution_count": null,
      "metadata": {
        "id": "-Z9RcVLrb6Yn"
      },
      "outputs": [],
      "source": [
        "import tensorflow as tf\n",
        "from tensorflow import keras\n",
        "from tensorflow.keras import layers\n",
        "from tensorflow.keras.models import Sequential\n",
        "from tensorflow.keras.preprocessing.image import ImageDataGenerator\n",
        "import pandas as pd\n",
        "import numpy as np\n",
        "import os\n",
        "import cv2\n",
        "import torch\n",
        "from pathlib import Path\n",
        "from timeit import default_timer as timer\n",
        "from tqdm.auto import tqdm\n",
        "from PIL import Image\n",
        "from sklearn.model_selection import train_test_split\n",
        "from sklearn.preprocessing import LabelBinarizer\n",
        "import streamlit as st\n",
        "import joblib"
      ]
    },
    {
      "cell_type": "code",
      "source": [
        "!aicrowd login"
      ],
      "metadata": {
        "colab": {
          "base_uri": "https://localhost:8080/"
        },
        "id": "VrH4cNMKg9QT",
        "outputId": "fa9050df-4f77-423b-8b5d-5c82da8722b2"
      },
      "execution_count": null,
      "outputs": [
        {
          "output_type": "stream",
          "name": "stdout",
          "text": [
            "Please login here: \u001b[34m\u001b[1m\u001b[4mhttps://api.aicrowd.com/auth/ZnzzHTVAlOLDyeGsOOuI-0x6OTFooUBtTZ3SJ6LIxaI\u001b[0m\n",
            "/usr/bin/xdg-open: 882: www-browser: not found\n",
            "/usr/bin/xdg-open: 882: links2: not found\n",
            "/usr/bin/xdg-open: 882: elinks: not found\n",
            "/usr/bin/xdg-open: 882: links: not found\n",
            "/usr/bin/xdg-open: 882: lynx: not found\n",
            "/usr/bin/xdg-open: 882: w3m: not found\n",
            "xdg-open: no method available for opening 'https://api.aicrowd.com/auth/ZnzzHTVAlOLDyeGsOOuI-0x6OTFooUBtTZ3SJ6LIxaI'\n",
            "\u001b[31mLogin Error: Couldn't login. Max retries exceeded\u001b[0m\u001b[33m\n",
            "Please try logging in again\u001b[0m\n"
          ]
        }
      ]
    },
    {
      "cell_type": "code",
      "source": [
        "!aicrowd dataset download --challenge mosquitoalert-challenge-2023"
      ],
      "metadata": {
        "colab": {
          "base_uri": "https://localhost:8080/"
        },
        "id": "KkoHWDUIcf1-",
        "outputId": "78413a03-d316-4240-9e94-003c80bda869"
      },
      "execution_count": null,
      "outputs": [
        {
          "output_type": "stream",
          "name": "stdout",
          "text": [
            "phase2_train_v0.csv: 100% 553k/553k [00:00<00:00, 3.80MB/s]\n",
            "phase2_train_v0.zip: 100% 10.3G/10.3G [11:57<00:00, 14.4MB/s]\n"
          ]
        }
      ]
    },
    {
      "cell_type": "code",
      "source": [
        "!unzip -qq phase2_train_v0.zip -d test_images/"
      ],
      "metadata": {
        "id": "ETL10Mfick1N"
      },
      "execution_count": null,
      "outputs": []
    },
    {
      "cell_type": "code",
      "source": [
        "!mv phase2_train_v0.csv test_images/images_train.csv"
      ],
      "metadata": {
        "id": "ZCjZWOSocq0e"
      },
      "execution_count": null,
      "outputs": []
    },
    {
      "cell_type": "code",
      "source": [
        "csv_file = 'test_images/images_train.csv'\n",
        "df = pd.read_csv(csv_file)\n",
        "\n",
        "# Shuffle the dataframe\n",
        "df = df.sample(frac=1, random_state=42).reset_index(drop=True)\n",
        "\n",
        "def load_and_preprocess_images(image_paths, target_size):\n",
        "    images = []\n",
        "    x = 0\n",
        "    for path in image_paths:\n",
        "        x+=1\n",
        "        image = cv2.imread(\"test_images/final/\"+path)\n",
        "        image = cv2.cvtColor(image, cv2.COLOR_BGR2RGB)  # Ensure images are in RGB format\n",
        "        image = cv2.resize(image, target_size)\n",
        "        image = image / 255.0  # Normalize pixel values to [0, 1]\n",
        "        images.append(image)\n",
        "\n",
        "    return np.array(images)\n",
        "\n",
        "# Split the data into train, validation, and test sets\n",
        "train_size = 0.7\n",
        "validation_size = 0.15\n",
        "test_size = 0.15\n",
        "\n",
        "X = load_and_preprocess_images(df['img_fName'], target_size=(64, 64))\n",
        "y = LabelBinarizer().fit_transform(df['class_label'])\n",
        "\n",
        "X_train, X_temp, y_train, y_temp = train_test_split(X, y, test_size=1 - train_size, random_state=42)\n",
        "X_validation, X_test, y_validation, y_test = train_test_split(X_temp, y_temp, test_size=test_size / (test_size + validation_size), random_state=42)\n"
      ],
      "metadata": {
        "colab": {
          "base_uri": "https://localhost:8080/"
        },
        "id": "0DHndJRvceTa",
        "outputId": "9b8976c0-4ad1-4972-c053-ceba6ffe27a3"
      },
      "execution_count": null,
      "outputs": [
        {
          "output_type": "stream",
          "name": "stderr",
          "text": [
            "/usr/local/lib/python3.10/dist-packages/sklearn/utils/validation.py:605: FutureWarning: is_sparse is deprecated and will be removed in a future version. Check `isinstance(dtype, pd.SparseDtype)` instead.\n",
            "  if is_sparse(pd_dtype):\n",
            "/usr/local/lib/python3.10/dist-packages/sklearn/utils/validation.py:614: FutureWarning: is_sparse is deprecated and will be removed in a future version. Check `isinstance(dtype, pd.SparseDtype)` instead.\n",
            "  if is_sparse(pd_dtype) or not is_extension_array_dtype(pd_dtype):\n",
            "/usr/local/lib/python3.10/dist-packages/sklearn/utils/validation.py:605: FutureWarning: is_sparse is deprecated and will be removed in a future version. Check `isinstance(dtype, pd.SparseDtype)` instead.\n",
            "  if is_sparse(pd_dtype):\n",
            "/usr/local/lib/python3.10/dist-packages/sklearn/utils/validation.py:614: FutureWarning: is_sparse is deprecated and will be removed in a future version. Check `isinstance(dtype, pd.SparseDtype)` instead.\n",
            "  if is_sparse(pd_dtype) or not is_extension_array_dtype(pd_dtype):\n",
            "/usr/local/lib/python3.10/dist-packages/sklearn/utils/validation.py:605: FutureWarning: is_sparse is deprecated and will be removed in a future version. Check `isinstance(dtype, pd.SparseDtype)` instead.\n",
            "  if is_sparse(pd_dtype):\n",
            "/usr/local/lib/python3.10/dist-packages/sklearn/utils/validation.py:614: FutureWarning: is_sparse is deprecated and will be removed in a future version. Check `isinstance(dtype, pd.SparseDtype)` instead.\n",
            "  if is_sparse(pd_dtype) or not is_extension_array_dtype(pd_dtype):\n",
            "/usr/local/lib/python3.10/dist-packages/sklearn/utils/validation.py:605: FutureWarning: is_sparse is deprecated and will be removed in a future version. Check `isinstance(dtype, pd.SparseDtype)` instead.\n",
            "  if is_sparse(pd_dtype):\n",
            "/usr/local/lib/python3.10/dist-packages/sklearn/utils/validation.py:614: FutureWarning: is_sparse is deprecated and will be removed in a future version. Check `isinstance(dtype, pd.SparseDtype)` instead.\n",
            "  if is_sparse(pd_dtype) or not is_extension_array_dtype(pd_dtype):\n",
            "/usr/local/lib/python3.10/dist-packages/sklearn/utils/validation.py:605: FutureWarning: is_sparse is deprecated and will be removed in a future version. Check `isinstance(dtype, pd.SparseDtype)` instead.\n",
            "  if is_sparse(pd_dtype):\n",
            "/usr/local/lib/python3.10/dist-packages/sklearn/utils/validation.py:614: FutureWarning: is_sparse is deprecated and will be removed in a future version. Check `isinstance(dtype, pd.SparseDtype)` instead.\n",
            "  if is_sparse(pd_dtype) or not is_extension_array_dtype(pd_dtype):\n",
            "/usr/local/lib/python3.10/dist-packages/sklearn/utils/validation.py:605: FutureWarning: is_sparse is deprecated and will be removed in a future version. Check `isinstance(dtype, pd.SparseDtype)` instead.\n",
            "  if is_sparse(pd_dtype):\n",
            "/usr/local/lib/python3.10/dist-packages/sklearn/utils/validation.py:614: FutureWarning: is_sparse is deprecated and will be removed in a future version. Check `isinstance(dtype, pd.SparseDtype)` instead.\n",
            "  if is_sparse(pd_dtype) or not is_extension_array_dtype(pd_dtype):\n",
            "/usr/local/lib/python3.10/dist-packages/sklearn/utils/validation.py:605: FutureWarning: is_sparse is deprecated and will be removed in a future version. Check `isinstance(dtype, pd.SparseDtype)` instead.\n",
            "  if is_sparse(pd_dtype):\n",
            "/usr/local/lib/python3.10/dist-packages/sklearn/utils/validation.py:614: FutureWarning: is_sparse is deprecated and will be removed in a future version. Check `isinstance(dtype, pd.SparseDtype)` instead.\n",
            "  if is_sparse(pd_dtype) or not is_extension_array_dtype(pd_dtype):\n"
          ]
        }
      ]
    },
    {
      "cell_type": "code",
      "execution_count": null,
      "metadata": {
        "id": "JTiBDbxLb6Yu"
      },
      "outputs": [],
      "source": [
        "batch_size = 32\n",
        "\n",
        "train_datagen = ImageDataGenerator(\n",
        "    rotation_range=15,\n",
        "    width_shift_range=0.1,\n",
        "    height_shift_range=0.1,\n",
        "    shear_range=0.2,\n",
        "    zoom_range=0.2,\n",
        "    horizontal_flip=True,\n",
        "    fill_mode='nearest'\n",
        ")\n",
        "\n",
        "train_generator = train_datagen.flow(X_train, y_train, batch_size=batch_size)\n",
        "\n",
        "validation_datagen = ImageDataGenerator()\n",
        "\n",
        "validation_generator = validation_datagen.flow(X_validation, y_validation, batch_size=batch_size)\n",
        "\n",
        "test_datagen = ImageDataGenerator()\n",
        "\n",
        "test_generator = test_datagen.flow(X_test, y_test, batch_size=batch_size)\n"
      ]
    },
    {
      "cell_type": "code",
      "execution_count": null,
      "metadata": {
        "id": "Cg4Uk2tnb6Yx"
      },
      "outputs": [],
      "source": [
        "import tensorflow as tf\n",
        "from tensorflow.keras.models import Sequential\n",
        "from tensorflow.keras.layers import Conv2D, MaxPooling2D, Flatten, Dense, Dropout\n",
        "\n",
        "# Create a sequential model\n",
        "model = Sequential()\n",
        "\n",
        "# Convolutional layers\n",
        "model.add(Conv2D(32, (3, 3), activation='relu', input_shape=(64, 64, 3)))\n",
        "model.add(MaxPooling2D(pool_size=(2, 2)))\n",
        "\n",
        "model.add(Conv2D(64, (3, 3), activation='relu'))\n",
        "model.add(MaxPooling2D(pool_size=(2, 2)))\n",
        "\n",
        "model.add(Conv2D(128, (3, 3), activation='relu'))\n",
        "model.add(MaxPooling2D(pool_size=(2, 2)))\n",
        "\n",
        "# Flatten the output for the fully connected layers\n",
        "model.add(Flatten())\n",
        "\n",
        "# Fully connected layers\n",
        "model.add(Dense(128, activation='relu'))\n",
        "model.add(Dropout(0.5))  # Adding dropout for regularization\n",
        "model.add(Dense(6, activation='softmax'))  # Replace 'number_of_classes' with the actual number of classes in your dataset\n",
        "\n",
        "# Compile the model\n",
        "model.compile(optimizer='adam', loss='categorical_crossentropy', metrics=['accuracy'])\n"
      ]
    },
    {
      "cell_type": "code",
      "execution_count": null,
      "metadata": {
        "colab": {
          "base_uri": "https://localhost:8080/"
        },
        "id": "4ZQMHmCPb6Yz",
        "outputId": "49ff79fe-2552-4e2f-95ee-0e4f62d4e22e"
      },
      "outputs": [
        {
          "output_type": "stream",
          "name": "stdout",
          "text": [
            "Epoch 1/75\n",
            "227/227 [==============================] - 12s 52ms/step - loss: 1.1090 - accuracy: 0.4632 - val_loss: 1.0762 - val_accuracy: 0.4891\n",
            "Epoch 2/75\n",
            "227/227 [==============================] - 10s 42ms/step - loss: 1.1043 - accuracy: 0.4550 - val_loss: 1.0856 - val_accuracy: 0.4556\n",
            "Epoch 3/75\n",
            "227/227 [==============================] - 12s 51ms/step - loss: 1.1025 - accuracy: 0.4596 - val_loss: 1.0886 - val_accuracy: 0.4434\n",
            "Epoch 4/75\n",
            "227/227 [==============================] - 12s 51ms/step - loss: 1.1005 - accuracy: 0.4504 - val_loss: 1.0800 - val_accuracy: 0.4595\n",
            "Epoch 5/75\n",
            "227/227 [==============================] - 10s 46ms/step - loss: 1.0934 - accuracy: 0.4688 - val_loss: 1.0782 - val_accuracy: 0.4865\n",
            "Epoch 6/75\n",
            "227/227 [==============================] - 12s 53ms/step - loss: 1.0914 - accuracy: 0.4879 - val_loss: 1.0553 - val_accuracy: 0.5624\n",
            "Epoch 7/75\n",
            "227/227 [==============================] - 12s 51ms/step - loss: 1.0729 - accuracy: 0.5223 - val_loss: 1.0558 - val_accuracy: 0.5553\n",
            "Epoch 8/75\n",
            "227/227 [==============================] - 10s 42ms/step - loss: 1.0624 - accuracy: 0.5559 - val_loss: 1.0158 - val_accuracy: 0.5566\n",
            "Epoch 9/75\n",
            "227/227 [==============================] - 11s 50ms/step - loss: 1.0316 - accuracy: 0.5873 - val_loss: 1.0503 - val_accuracy: 0.5553\n",
            "Epoch 10/75\n",
            "227/227 [==============================] - 12s 52ms/step - loss: 0.9959 - accuracy: 0.6071 - val_loss: 0.9414 - val_accuracy: 0.6313\n",
            "Epoch 11/75\n",
            "227/227 [==============================] - 10s 46ms/step - loss: 0.9684 - accuracy: 0.6311 - val_loss: 0.9274 - val_accuracy: 0.6557\n",
            "Epoch 12/75\n",
            "227/227 [==============================] - 12s 51ms/step - loss: 0.9471 - accuracy: 0.6587 - val_loss: 0.8863 - val_accuracy: 0.6712\n",
            "Epoch 13/75\n",
            "227/227 [==============================] - 12s 51ms/step - loss: 0.9130 - accuracy: 0.6758 - val_loss: 0.8756 - val_accuracy: 0.6718\n",
            "Epoch 14/75\n",
            "227/227 [==============================] - 9s 41ms/step - loss: 0.8632 - accuracy: 0.6940 - val_loss: 1.0644 - val_accuracy: 0.6030\n",
            "Epoch 15/75\n",
            "227/227 [==============================] - 11s 49ms/step - loss: 0.8547 - accuracy: 0.6968 - val_loss: 0.8582 - val_accuracy: 0.6898\n",
            "Epoch 16/75\n",
            "227/227 [==============================] - 12s 52ms/step - loss: 0.8252 - accuracy: 0.7063 - val_loss: 0.7795 - val_accuracy: 0.7310\n",
            "Epoch 17/75\n",
            "227/227 [==============================] - 12s 52ms/step - loss: 0.8217 - accuracy: 0.7202 - val_loss: 0.9910 - val_accuracy: 0.6396\n",
            "Epoch 18/75\n",
            "227/227 [==============================] - 9s 41ms/step - loss: 0.7983 - accuracy: 0.7248 - val_loss: 0.8252 - val_accuracy: 0.7104\n",
            "Epoch 19/75\n",
            "227/227 [==============================] - 11s 48ms/step - loss: 0.7890 - accuracy: 0.7262 - val_loss: 0.8420 - val_accuracy: 0.6988\n",
            "Epoch 20/75\n",
            "227/227 [==============================] - 11s 49ms/step - loss: 0.7895 - accuracy: 0.7280 - val_loss: 0.8598 - val_accuracy: 0.7046\n",
            "Epoch 21/75\n",
            "227/227 [==============================] - 12s 51ms/step - loss: 0.7797 - accuracy: 0.7315 - val_loss: 0.7743 - val_accuracy: 0.7317\n",
            "Epoch 22/75\n",
            "227/227 [==============================] - 11s 51ms/step - loss: 0.7719 - accuracy: 0.7391 - val_loss: 0.7596 - val_accuracy: 0.7394\n",
            "Epoch 23/75\n",
            "227/227 [==============================] - 9s 40ms/step - loss: 0.7704 - accuracy: 0.7349 - val_loss: 0.7446 - val_accuracy: 0.7387\n",
            "Epoch 24/75\n",
            "227/227 [==============================] - 12s 51ms/step - loss: 0.7567 - accuracy: 0.7441 - val_loss: 0.8459 - val_accuracy: 0.7027\n",
            "Epoch 25/75\n",
            "227/227 [==============================] - 12s 51ms/step - loss: 0.7623 - accuracy: 0.7429 - val_loss: 0.7786 - val_accuracy: 0.7194\n",
            "Epoch 26/75\n",
            "227/227 [==============================] - 11s 47ms/step - loss: 0.7440 - accuracy: 0.7469 - val_loss: 0.9678 - val_accuracy: 0.6705\n",
            "Epoch 27/75\n",
            "227/227 [==============================] - 12s 51ms/step - loss: 0.7565 - accuracy: 0.7398 - val_loss: 0.7507 - val_accuracy: 0.7497\n",
            "Epoch 28/75\n",
            "227/227 [==============================] - 9s 41ms/step - loss: 0.7562 - accuracy: 0.7449 - val_loss: 0.7330 - val_accuracy: 0.7542\n",
            "Epoch 29/75\n",
            "227/227 [==============================] - 12s 51ms/step - loss: 0.7305 - accuracy: 0.7531 - val_loss: 0.7227 - val_accuracy: 0.7523\n",
            "Epoch 30/75\n",
            "227/227 [==============================] - 12s 51ms/step - loss: 0.7362 - accuracy: 0.7542 - val_loss: 0.9006 - val_accuracy: 0.6840\n",
            "Epoch 31/75\n",
            "227/227 [==============================] - 11s 49ms/step - loss: 0.7241 - accuracy: 0.7529 - val_loss: 0.7642 - val_accuracy: 0.7317\n",
            "Epoch 32/75\n",
            "227/227 [==============================] - 12s 51ms/step - loss: 0.7327 - accuracy: 0.7498 - val_loss: 0.7310 - val_accuracy: 0.7503\n",
            "Epoch 33/75\n",
            "227/227 [==============================] - 12s 53ms/step - loss: 0.7291 - accuracy: 0.7569 - val_loss: 0.7603 - val_accuracy: 0.7445\n",
            "Epoch 34/75\n",
            "227/227 [==============================] - 9s 41ms/step - loss: 0.7170 - accuracy: 0.7587 - val_loss: 0.7533 - val_accuracy: 0.7394\n",
            "Epoch 35/75\n",
            "227/227 [==============================] - 11s 50ms/step - loss: 0.7139 - accuracy: 0.7594 - val_loss: 0.7541 - val_accuracy: 0.7471\n",
            "Epoch 36/75\n",
            "227/227 [==============================] - 12s 52ms/step - loss: 0.7203 - accuracy: 0.7540 - val_loss: 0.7821 - val_accuracy: 0.7471\n",
            "Epoch 37/75\n",
            "227/227 [==============================] - 12s 52ms/step - loss: 0.7162 - accuracy: 0.7591 - val_loss: 0.8128 - val_accuracy: 0.7259\n",
            "Epoch 38/75\n",
            "227/227 [==============================] - 12s 51ms/step - loss: 0.7062 - accuracy: 0.7653 - val_loss: 0.8889 - val_accuracy: 0.7053\n",
            "Epoch 39/75\n",
            "227/227 [==============================] - 12s 51ms/step - loss: 0.7059 - accuracy: 0.7601 - val_loss: 0.8039 - val_accuracy: 0.7375\n",
            "Epoch 40/75\n",
            "227/227 [==============================] - 9s 41ms/step - loss: 0.6980 - accuracy: 0.7665 - val_loss: 0.7558 - val_accuracy: 0.7490\n",
            "Epoch 41/75\n",
            "227/227 [==============================] - 11s 47ms/step - loss: 0.7049 - accuracy: 0.7616 - val_loss: 0.8312 - val_accuracy: 0.7201\n",
            "Epoch 42/75\n",
            "227/227 [==============================] - 12s 52ms/step - loss: 0.6972 - accuracy: 0.7659 - val_loss: 0.8366 - val_accuracy: 0.7233\n",
            "Epoch 43/75\n",
            "227/227 [==============================] - 10s 43ms/step - loss: 0.6898 - accuracy: 0.7667 - val_loss: 0.8632 - val_accuracy: 0.7130\n",
            "Epoch 44/75\n",
            "227/227 [==============================] - 12s 51ms/step - loss: 0.6882 - accuracy: 0.7671 - val_loss: 0.8123 - val_accuracy: 0.7304\n",
            "Epoch 45/75\n",
            "227/227 [==============================] - 9s 41ms/step - loss: 0.6842 - accuracy: 0.7638 - val_loss: 0.7747 - val_accuracy: 0.7420\n",
            "Epoch 46/75\n",
            "227/227 [==============================] - 11s 49ms/step - loss: 0.6814 - accuracy: 0.7745 - val_loss: 0.7676 - val_accuracy: 0.7387\n",
            "Epoch 47/75\n",
            "227/227 [==============================] - 11s 49ms/step - loss: 0.6822 - accuracy: 0.7717 - val_loss: 0.7129 - val_accuracy: 0.7703\n",
            "Epoch 48/75\n",
            "227/227 [==============================] - 10s 42ms/step - loss: 0.6788 - accuracy: 0.7751 - val_loss: 0.7409 - val_accuracy: 0.7613\n",
            "Epoch 49/75\n",
            "227/227 [==============================] - 12s 51ms/step - loss: 0.6733 - accuracy: 0.7756 - val_loss: 0.8520 - val_accuracy: 0.7265\n",
            "Epoch 50/75\n",
            "227/227 [==============================] - 12s 51ms/step - loss: 0.6725 - accuracy: 0.7782 - val_loss: 0.7585 - val_accuracy: 0.7362\n",
            "Epoch 51/75\n",
            "227/227 [==============================] - 10s 44ms/step - loss: 0.6655 - accuracy: 0.7756 - val_loss: 0.7571 - val_accuracy: 0.7523\n",
            "Epoch 52/75\n",
            "227/227 [==============================] - 11s 46ms/step - loss: 0.6628 - accuracy: 0.7767 - val_loss: 0.7716 - val_accuracy: 0.7510\n",
            "Epoch 53/75\n",
            "227/227 [==============================] - 12s 51ms/step - loss: 0.6692 - accuracy: 0.7782 - val_loss: 0.7561 - val_accuracy: 0.7523\n",
            "Epoch 54/75\n",
            "227/227 [==============================] - 9s 41ms/step - loss: 0.6560 - accuracy: 0.7802 - val_loss: 0.7764 - val_accuracy: 0.7426\n",
            "Epoch 55/75\n",
            "227/227 [==============================] - 12s 52ms/step - loss: 0.6611 - accuracy: 0.7796 - val_loss: 0.7420 - val_accuracy: 0.7619\n",
            "Epoch 56/75\n",
            "227/227 [==============================] - 12s 51ms/step - loss: 0.6626 - accuracy: 0.7740 - val_loss: 0.8417 - val_accuracy: 0.7452\n",
            "Epoch 57/75\n",
            "227/227 [==============================] - 11s 48ms/step - loss: 0.6526 - accuracy: 0.7849 - val_loss: 0.7506 - val_accuracy: 0.7529\n",
            "Epoch 58/75\n",
            "227/227 [==============================] - 12s 51ms/step - loss: 0.6524 - accuracy: 0.7830 - val_loss: 0.7787 - val_accuracy: 0.7329\n",
            "Epoch 59/75\n",
            "227/227 [==============================] - 12s 51ms/step - loss: 0.6476 - accuracy: 0.7871 - val_loss: 0.7624 - val_accuracy: 0.7619\n",
            "Epoch 60/75\n",
            "227/227 [==============================] - 9s 41ms/step - loss: 0.6513 - accuracy: 0.7819 - val_loss: 0.7785 - val_accuracy: 0.7568\n",
            "Epoch 61/75\n",
            "227/227 [==============================] - 11s 49ms/step - loss: 0.6515 - accuracy: 0.7778 - val_loss: 0.7752 - val_accuracy: 0.7484\n",
            "Epoch 62/75\n",
            "227/227 [==============================] - 12s 52ms/step - loss: 0.6399 - accuracy: 0.7830 - val_loss: 0.7670 - val_accuracy: 0.7484\n",
            "Epoch 63/75\n",
            "227/227 [==============================] - 9s 40ms/step - loss: 0.6378 - accuracy: 0.7842 - val_loss: 0.9051 - val_accuracy: 0.7136\n",
            "Epoch 64/75\n",
            "227/227 [==============================] - 12s 51ms/step - loss: 0.6480 - accuracy: 0.7805 - val_loss: 0.7427 - val_accuracy: 0.7587\n",
            "Epoch 65/75\n",
            "227/227 [==============================] - 10s 43ms/step - loss: 0.6341 - accuracy: 0.7851 - val_loss: 0.9100 - val_accuracy: 0.7143\n",
            "Epoch 66/75\n",
            "227/227 [==============================] - 11s 48ms/step - loss: 0.6286 - accuracy: 0.7877 - val_loss: 0.8383 - val_accuracy: 0.7407\n",
            "Epoch 67/75\n",
            "227/227 [==============================] - 12s 51ms/step - loss: 0.6294 - accuracy: 0.7876 - val_loss: 0.8438 - val_accuracy: 0.7342\n",
            "Epoch 68/75\n",
            "227/227 [==============================] - 11s 48ms/step - loss: 0.6418 - accuracy: 0.7823 - val_loss: 0.7872 - val_accuracy: 0.7580\n",
            "Epoch 69/75\n",
            "227/227 [==============================] - 10s 44ms/step - loss: 0.6247 - accuracy: 0.7889 - val_loss: 0.7979 - val_accuracy: 0.7432\n",
            "Epoch 70/75\n",
            "227/227 [==============================] - 12s 51ms/step - loss: 0.6357 - accuracy: 0.7838 - val_loss: 0.7623 - val_accuracy: 0.7561\n",
            "Epoch 71/75\n",
            "227/227 [==============================] - 12s 51ms/step - loss: 0.6283 - accuracy: 0.7858 - val_loss: 0.8516 - val_accuracy: 0.7336\n",
            "Epoch 72/75\n",
            "227/227 [==============================] - 9s 40ms/step - loss: 0.6208 - accuracy: 0.7889 - val_loss: 0.7858 - val_accuracy: 0.7555\n",
            "Epoch 73/75\n",
            "227/227 [==============================] - 12s 51ms/step - loss: 0.6241 - accuracy: 0.7882 - val_loss: 0.8207 - val_accuracy: 0.7458\n",
            "Epoch 74/75\n",
            "227/227 [==============================] - 12s 51ms/step - loss: 0.6186 - accuracy: 0.7900 - val_loss: 0.8782 - val_accuracy: 0.7342\n",
            "Epoch 75/75\n",
            "227/227 [==============================] - 11s 48ms/step - loss: 0.6228 - accuracy: 0.7906 - val_loss: 0.8276 - val_accuracy: 0.7291\n",
            "49/49 [==============================] - 0s 5ms/step - loss: 0.9067 - accuracy: 0.7265\n",
            "Test accuracy: 72.65%\n"
          ]
        }
      ],
      "source": [
        "# Train the model\n",
        "model.fit(train_generator, epochs=75, validation_data=validation_generator)\n",
        "\n",
        "# Evaluate the model on the test set\n",
        "test_loss, test_accuracy = model.evaluate(test_generator)\n",
        "\n",
        "print(f'Test accuracy: {test_accuracy * 100:.2f}%')\n"
      ]
    },
    {
      "cell_type": "code",
      "source": [
        "# Se guarda el modelo\n",
        "joblib.dump(model, \"mosquitos_v1.sav\")"
      ],
      "metadata": {
        "colab": {
          "base_uri": "https://localhost:8080/"
        },
        "id": "K2oZQFxpkN0w",
        "outputId": "38bd65a1-d4ac-4292-ad5d-61928a4d13da"
      },
      "execution_count": null,
      "outputs": [
        {
          "output_type": "execute_result",
          "data": {
            "text/plain": [
              "['mosquitos_v1.sav']"
            ]
          },
          "metadata": {},
          "execution_count": 29
        }
      ]
    },
    {
      "cell_type": "code",
      "execution_count": null,
      "metadata": {
        "id": "e8GuSaLib6Y0"
      },
      "outputs": [],
      "source": [
        "batch_size = 32\n",
        "\n",
        "train_datagen = ImageDataGenerator(\n",
        "    rotation_range=15,\n",
        "    width_shift_range=0.1,\n",
        "    height_shift_range=0.1,\n",
        "    shear_range=0.2,\n",
        "    zoom_range=0.2,\n",
        "    horizontal_flip=True,\n",
        "    fill_mode='nearest'\n",
        ")\n",
        "\n",
        "train_generator = train_datagen.flow(X_train, y_train, batch_size=batch_size)\n",
        "\n",
        "validation_datagen = ImageDataGenerator()\n",
        "\n",
        "validation_generator = validation_datagen.flow(X_validation, y_validation, batch_size=batch_size)\n",
        "\n",
        "test_datagen = ImageDataGenerator()\n",
        "\n",
        "test_generator = test_datagen.flow(X_test, y_test, batch_size=batch_size)\n"
      ]
    },
    {
      "cell_type": "code",
      "execution_count": null,
      "metadata": {
        "id": "kSTzprNkb6Y2"
      },
      "outputs": [],
      "source": [
        "import tensorflow as tf\n",
        "from tensorflow.keras.models import Sequential\n",
        "from tensorflow.keras.layers import Conv2D, MaxPooling2D, Flatten, Dense, Dropout, BatchNormalization\n",
        "# Create a sequential model\n",
        "model = Sequential()\n",
        "\n",
        "# Convolutional layers\n",
        "model.add(Conv2D(32, (3, 3), activation='relu', input_shape=(64, 64, 3)))\n",
        "model.add(BatchNormalization())\n",
        "model.add(MaxPooling2D(pool_size=(2, 2)))\n",
        "\n",
        "model.add(Conv2D(64, (3, 3), activation='relu'))\n",
        "model.add(BatchNormalization())\n",
        "model.add(MaxPooling2D(pool_size=(2, 2)))\n",
        "\n",
        "model.add(Conv2D(128, (3, 3), activation='relu'))\n",
        "model.add(BatchNormalization())\n",
        "model.add(MaxPooling2D(pool_size=(2, 2)))\n",
        "\n",
        "# Flatten the output for the fully connected layers\n",
        "model.add(Flatten())\n",
        "\n",
        "# Fully connected layers\n",
        "model.add(Dense(128, activation='relu'))\n",
        "model.add(Dropout(0.5))  # Adding dropout for regularization\n",
        "model.add(Dense(6, activation='softmax'))  # Replace 'number_of_classes' with the actual number of classes in your dataset\n",
        "\n",
        "# Compile the model\n",
        "model.compile(optimizer='adam', loss='categorical_crossentropy', metrics=['accuracy'])"
      ]
    },
    {
      "cell_type": "code",
      "execution_count": null,
      "metadata": {
        "colab": {
          "base_uri": "https://localhost:8080/"
        },
        "id": "weM0cj2Rb6Y4",
        "outputId": "d38db16f-2341-4492-8471-4bbe918a884e"
      },
      "outputs": [
        {
          "output_type": "stream",
          "name": "stdout",
          "text": [
            "Epoch 1/20\n",
            "227/227 [==============================] - 14s 53ms/step - loss: 1.4499 - accuracy: 0.4892 - val_loss: 1.6329 - val_accuracy: 0.4344\n",
            "Epoch 2/20\n",
            "227/227 [==============================] - 12s 53ms/step - loss: 1.1932 - accuracy: 0.4980 - val_loss: 1.0947 - val_accuracy: 0.4447\n",
            "Epoch 3/20\n",
            "227/227 [==============================] - 10s 42ms/step - loss: 1.1681 - accuracy: 0.5078 - val_loss: 1.0663 - val_accuracy: 0.5264\n",
            "Epoch 4/20\n",
            "227/227 [==============================] - 12s 54ms/step - loss: 1.1474 - accuracy: 0.5202 - val_loss: 1.1079 - val_accuracy: 0.4717\n",
            "Epoch 5/20\n",
            "227/227 [==============================] - 10s 42ms/step - loss: 1.1027 - accuracy: 0.5408 - val_loss: 1.0698 - val_accuracy: 0.5785\n",
            "Epoch 6/20\n",
            "227/227 [==============================] - 11s 49ms/step - loss: 1.0777 - accuracy: 0.5699 - val_loss: 0.9859 - val_accuracy: 0.6287\n",
            "Epoch 7/20\n",
            "227/227 [==============================] - 13s 57ms/step - loss: 1.0370 - accuracy: 0.6013 - val_loss: 1.2755 - val_accuracy: 0.4485\n",
            "Epoch 8/20\n",
            "227/227 [==============================] - 12s 53ms/step - loss: 1.0085 - accuracy: 0.6311 - val_loss: 1.2501 - val_accuracy: 0.4472\n",
            "Epoch 9/20\n",
            "227/227 [==============================] - 12s 53ms/step - loss: 0.9539 - accuracy: 0.6582 - val_loss: 0.9672 - val_accuracy: 0.6570\n",
            "Epoch 10/20\n",
            "227/227 [==============================] - 12s 52ms/step - loss: 0.9214 - accuracy: 0.6736 - val_loss: 1.1014 - val_accuracy: 0.4607\n",
            "Epoch 11/20\n",
            "227/227 [==============================] - 12s 53ms/step - loss: 0.9121 - accuracy: 0.6853 - val_loss: 0.8838 - val_accuracy: 0.6512\n",
            "Epoch 12/20\n",
            "227/227 [==============================] - 12s 52ms/step - loss: 0.8791 - accuracy: 0.6947 - val_loss: 0.9582 - val_accuracy: 0.5888\n",
            "Epoch 13/20\n",
            "227/227 [==============================] - 9s 41ms/step - loss: 0.8620 - accuracy: 0.7033 - val_loss: 0.9009 - val_accuracy: 0.6609\n",
            "Epoch 14/20\n",
            "227/227 [==============================] - 12s 52ms/step - loss: 0.8624 - accuracy: 0.7040 - val_loss: 0.9834 - val_accuracy: 0.6229\n",
            "Epoch 15/20\n",
            "227/227 [==============================] - 12s 52ms/step - loss: 0.8386 - accuracy: 0.7095 - val_loss: 0.8581 - val_accuracy: 0.6789\n",
            "Epoch 16/20\n",
            "227/227 [==============================] - 11s 50ms/step - loss: 0.8313 - accuracy: 0.7146 - val_loss: 0.9758 - val_accuracy: 0.6094\n",
            "Epoch 17/20\n",
            "227/227 [==============================] - 12s 53ms/step - loss: 0.8192 - accuracy: 0.7124 - val_loss: 0.8981 - val_accuracy: 0.6699\n",
            "Epoch 18/20\n",
            "227/227 [==============================] - 17s 75ms/step - loss: 0.8119 - accuracy: 0.7218 - val_loss: 0.9194 - val_accuracy: 0.6525\n",
            "Epoch 19/20\n",
            "227/227 [==============================] - 12s 53ms/step - loss: 0.8023 - accuracy: 0.7248 - val_loss: 0.8457 - val_accuracy: 0.6609\n",
            "Epoch 20/20\n",
            "227/227 [==============================] - 9s 41ms/step - loss: 0.8004 - accuracy: 0.7264 - val_loss: 0.8287 - val_accuracy: 0.6905\n",
            "49/49 [==============================] - 0s 8ms/step - loss: 0.8592 - accuracy: 0.6898\n",
            "Test accuracy: 68.98%\n"
          ]
        }
      ],
      "source": [
        "# Train the model\n",
        "model.fit(train_generator, epochs=20, validation_data=validation_generator)\n",
        "\n",
        "# Evaluate the model on the test set\n",
        "test_loss, test_accuracy = model.evaluate(test_generator)\n",
        "\n",
        "print(f'Test accuracy: {test_accuracy * 100:.2f}%')"
      ]
    },
    {
      "cell_type": "code",
      "source": [
        "# Se guarda el modelo\n",
        "joblib.dump(model, \"mosquitos_v2.sav\")"
      ],
      "metadata": {
        "colab": {
          "base_uri": "https://localhost:8080/"
        },
        "id": "5Y32oA2KdPiD",
        "outputId": "76f3aaf5-bc59-4a9a-f294-913d7cbf147e"
      },
      "execution_count": null,
      "outputs": [
        {
          "output_type": "execute_result",
          "data": {
            "text/plain": [
              "['mosquitos_v2.sav']"
            ]
          },
          "metadata": {},
          "execution_count": 25
        }
      ]
    }
  ],
  "metadata": {
    "kernelspec": {
      "display_name": "Python 3",
      "name": "python3"
    },
    "language_info": {
      "codemirror_mode": {
        "name": "ipython",
        "version": 3
      },
      "file_extension": ".py",
      "mimetype": "text/x-python",
      "name": "python",
      "nbconvert_exporter": "python",
      "pygments_lexer": "ipython3",
      "version": "3.10.0"
    },
    "colab": {
      "provenance": [],
      "gpuType": "T4"
    },
    "accelerator": "GPU"
  },
  "nbformat": 4,
  "nbformat_minor": 0
}